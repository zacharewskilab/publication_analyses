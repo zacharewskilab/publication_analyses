{
 "cells": [
  {
   "cell_type": "code",
   "execution_count": 1,
   "id": "753c9e49-1471-41c5-a452-f07a58b40c04",
   "metadata": {},
   "outputs": [
    {
     "name": "stdout",
     "output_type": "stream",
     "text": [
      "--2025-03-13 12:02:37--  https://hgdownload.soe.ucsc.edu/goldenPath/mm39/bigZips/mm39.fa.gz\n",
      "Resolving hgdownload.soe.ucsc.edu (hgdownload.soe.ucsc.edu)... 128.114.119.163\n",
      "Connecting to hgdownload.soe.ucsc.edu (hgdownload.soe.ucsc.edu)|128.114.119.163|:443... connected.\n",
      "HTTP request sent, awaiting response... 200 OK\n",
      "Length: 870543764 (830M) [application/x-gzip]\n",
      "Saving to: ‘hgdownload.soe.ucsc.edu/goldenPath/mm39/bigZips/mm39.fa.gz’\n",
      "\n",
      "hgdownload.soe.ucsc 100%[===================>] 830.21M  20.0MB/s    in 42s     \n",
      "\n",
      "2025-03-13 12:03:20 (19.5 MB/s) - ‘hgdownload.soe.ucsc.edu/goldenPath/mm39/bigZips/mm39.fa.gz’ saved [870543764/870543764]\n",
      "\n",
      "FINISHED --2025-03-13 12:03:20--\n",
      "Total wall clock time: 43s\n",
      "Downloaded: 1 files, 830M in 42s (19.5 MB/s)\n"
     ]
    }
   ],
   "source": [
    "# Download the directory recursively but avoid overwriting and descending into parent directories\n",
    "!wget -r -nc -np https://hgdownload.soe.ucsc.edu/goldenPath/mm39/bigZips/mm39.fa.gz\n",
    "\n",
    "# Copy the desired file from the downloaded directory\n",
    "!cp ./hgdownload.soe.ucsc.edu/goldenPath/mm39/bigZips/mm39.fa.gz .\n",
    "\n",
    "# Remove the downloaded directory structure\n",
    "!rm -r hgdownload.soe.ucsc.edu\n",
    "\n",
    "# Decompress the file\n",
    "!gunzip mm39.fa.gz"
   ]
  },
  {
   "cell_type": "code",
   "execution_count": null,
   "id": "4859e4d5-c02f-4a98-ad60-cb461c1b9b61",
   "metadata": {},
   "outputs": [],
   "source": []
  }
 ],
 "metadata": {
  "kernelspec": {
   "display_name": "SCVI New",
   "language": "python",
   "name": "scvi-env"
  },
  "language_info": {
   "codemirror_mode": {
    "name": "ipython",
    "version": 3
   },
   "file_extension": ".py",
   "mimetype": "text/x-python",
   "name": "python",
   "nbconvert_exporter": "python",
   "pygments_lexer": "ipython3",
   "version": "3.9.18"
  }
 },
 "nbformat": 4,
 "nbformat_minor": 5
}
