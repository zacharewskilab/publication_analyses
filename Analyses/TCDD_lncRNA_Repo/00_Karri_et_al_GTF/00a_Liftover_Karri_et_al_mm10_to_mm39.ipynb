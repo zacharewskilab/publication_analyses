{
 "cells": [
  {
   "cell_type": "markdown",
   "metadata": {},
   "source": [
    "# Process GTF file from Karri et al. for mm10 to mm39 Liftover"
   ]
  },
  {
   "cell_type": "markdown",
   "metadata": {},
   "source": [
    "## <br> 1. Import Required Packages"
   ]
  },
  {
   "cell_type": "code",
   "execution_count": 24,
   "metadata": {},
   "outputs": [],
   "source": [
    "import numpy as np\n",
    "import pandas as pd\n"
   ]
  },
  {
   "cell_type": "markdown",
   "metadata": {},
   "source": [
    "## <br> 2. Liftover Karri et al. from mm10 to mm39"
   ]
  },
  {
   "cell_type": "code",
   "execution_count": 25,
   "metadata": {},
   "outputs": [
    {
     "name": "stderr",
     "output_type": "stream",
     "text": [
      "/tmp/local/51093422/ipykernel_1613205/1828373986.py:5: DtypeWarning: Columns (5) have mixed types. Specify dtype option on import or set low_memory=False.\n",
      "  RAW_Master = pd.read_csv('./RAW_Data/GTFB_FullGeneBody_MouseLiver_snRNAseq.gtf',\n"
     ]
    }
   ],
   "source": [
    "# Define the column names\n",
    "columns = ['seqname', 'source', 'feature', 'start', 'end', 'score', 'strand', 'frame', 'attributes']\n",
    "\n",
    "# Read the GTF file into a DataFrame\n",
    "RAW_Master = pd.read_csv('./RAW_Data/GTFB_FullGeneBody_MouseLiver_snRNAseq.gtf', \n",
    "                         delimiter='\\t',\n",
    "                         header=None,  # No header in the file\n",
    "                         names=columns)\n"
   ]
  },
  {
   "cell_type": "code",
   "execution_count": 43,
   "metadata": {},
   "outputs": [
    {
     "data": {
      "text/html": [
       "<div>\n",
       "<style scoped>\n",
       "    .dataframe tbody tr th:only-of-type {\n",
       "        vertical-align: middle;\n",
       "    }\n",
       "\n",
       "    .dataframe tbody tr th {\n",
       "        vertical-align: top;\n",
       "    }\n",
       "\n",
       "    .dataframe thead th {\n",
       "        text-align: right;\n",
       "    }\n",
       "</style>\n",
       "<table border=\"1\" class=\"dataframe\">\n",
       "  <thead>\n",
       "    <tr style=\"text-align: right;\">\n",
       "      <th></th>\n",
       "      <th>seqname</th>\n",
       "      <th>start</th>\n",
       "      <th>end</th>\n",
       "      <th>ID</th>\n",
       "      <th>score</th>\n",
       "      <th>strand</th>\n",
       "    </tr>\n",
       "  </thead>\n",
       "  <tbody>\n",
       "    <tr>\n",
       "      <th>0</th>\n",
       "      <td>chr1</td>\n",
       "      <td>4470732</td>\n",
       "      <td>4471325</td>\n",
       "      <td>0</td>\n",
       "      <td>1000</td>\n",
       "      <td>-</td>\n",
       "    </tr>\n",
       "    <tr>\n",
       "      <th>1</th>\n",
       "      <td>chr1</td>\n",
       "      <td>4744316</td>\n",
       "      <td>4745480</td>\n",
       "      <td>1</td>\n",
       "      <td>1000</td>\n",
       "      <td>-</td>\n",
       "    </tr>\n",
       "    <tr>\n",
       "      <th>2</th>\n",
       "      <td>chr1</td>\n",
       "      <td>21176511</td>\n",
       "      <td>21180041</td>\n",
       "      <td>2</td>\n",
       "      <td>1000</td>\n",
       "      <td>+</td>\n",
       "    </tr>\n",
       "    <tr>\n",
       "      <th>3</th>\n",
       "      <td>chr1</td>\n",
       "      <td>191420199</td>\n",
       "      <td>191424644</td>\n",
       "      <td>3</td>\n",
       "      <td>1000</td>\n",
       "      <td>+</td>\n",
       "    </tr>\n",
       "    <tr>\n",
       "      <th>4</th>\n",
       "      <td>chr11</td>\n",
       "      <td>94731060</td>\n",
       "      <td>94731724</td>\n",
       "      <td>4</td>\n",
       "      <td>1000</td>\n",
       "      <td>-</td>\n",
       "    </tr>\n",
       "  </tbody>\n",
       "</table>\n",
       "</div>"
      ],
      "text/plain": [
       "  seqname      start        end  ID score strand\n",
       "0    chr1    4470732    4471325   0  1000      -\n",
       "1    chr1    4744316    4745480   1  1000      -\n",
       "2    chr1   21176511   21180041   2  1000      +\n",
       "3    chr1  191420199  191424644   3  1000      +\n",
       "4   chr11   94731060   94731724   4  1000      -"
      ]
     },
     "execution_count": 43,
     "metadata": {},
     "output_type": "execute_result"
    }
   ],
   "source": [
    "# Extract relevant columns\n",
    "bed_df = RAW_Master.copy()\n",
    "\n",
    "# Add the 'ID' column as the row index + 1 to start from 1\n",
    "bed_df['ID'] = bed_df.index\n",
    "\n",
    "# Add 'chr' to every seqname value\n",
    "bed_df['seqname'] = 'chr' + bed_df['seqname'].astype(str)\n",
    "\n",
    "# Reorder columns to place 'ID' between 'end' and 'score'\n",
    "bed_df_filtered = bed_df[['seqname', 'start', 'end', 'ID', 'score', 'strand']]\n",
    "\n",
    "# Define the list of standard chromosomes to keep\n",
    "standard_chromosomes = {f'chr{i}' for i in range(1, 20)} | {'chrX', 'chrY', 'chrMT'}\n",
    "\n",
    "# Filter the DataFrame\n",
    "bed_df_filtered = bed_df_filtered[bed_df_filtered['seqname'].isin(standard_chromosomes)]\n",
    "bed_df_filtered['seqname'] = bed_df_filtered['seqname'].replace({'chrMT': 'chrM'})\n",
    "\n",
    "\n",
    "bed_df_filtered.head()"
   ]
  },
  {
   "cell_type": "code",
   "execution_count": 45,
   "metadata": {},
   "outputs": [],
   "source": [
    "# Export to BED format (tab-delimited)\n",
    "bed_df_filtered.to_csv('./RAW_Data/mm10_Karri_Annotations_Restructured_For_Liftovers.bed', sep='\\t', \n",
    "              header=False, index=False)"
   ]
  },
  {
   "cell_type": "code",
   "execution_count": 46,
   "metadata": {},
   "outputs": [
    {
     "name": "stdout",
     "output_type": "stream",
     "text": [
      "--2025-02-25 11:11:00--  https://hgdownload.soe.ucsc.edu/admin/exe/linux.x86_64/liftOver\n",
      "Resolving hgdownload.soe.ucsc.edu (hgdownload.soe.ucsc.edu)... 128.114.119.163\n",
      "Connecting to hgdownload.soe.ucsc.edu (hgdownload.soe.ucsc.edu)|128.114.119.163|:443... connected.\n",
      "HTTP request sent, awaiting response... 200 OK\n",
      "Length: 24387728 (23M)\n",
      "Saving to: ‘liftOver’\n",
      "\n",
      "liftOver            100%[===================>]  23.26M  9.87MB/s    in 2.4s    \n",
      "\n",
      "2025-02-25 11:11:03 (9.87 MB/s) - ‘liftOver’ saved [24387728/24387728]\n",
      "\n",
      "--2025-02-25 11:11:04--  https://hgdownload.soe.ucsc.edu/goldenPath/mm10/liftOver/mm10ToMm39.over.chain.gz\n",
      "Resolving hgdownload.soe.ucsc.edu (hgdownload.soe.ucsc.edu)... 128.114.119.163\n",
      "Connecting to hgdownload.soe.ucsc.edu (hgdownload.soe.ucsc.edu)|128.114.119.163|:443... connected.\n",
      "HTTP request sent, awaiting response... 200 OK\n",
      "Length: 25048 (24K) [application/x-gzip]\n",
      "Saving to: ‘mm10Tomm39.over.chain.gz’\n",
      "\n",
      "mm10Tomm39.over.cha 100%[===================>]  24.46K  --.-KB/s    in 0.06s   \n",
      "\n",
      "2025-02-25 11:11:04 (384 KB/s) - ‘mm10Tomm39.over.chain.gz’ saved [25048/25048]\n",
      "\n"
     ]
    }
   ],
   "source": [
    "# Download the UCSC LiftOver executable\n",
    "!wget -O liftOver https://hgdownload.soe.ucsc.edu/admin/exe/linux.x86_64/liftOver\n",
    "\n",
    "# Make the file executable\n",
    "!chmod +x liftOver\n",
    "\n",
    "# Download mm10 to rn6 liftover chain\n",
    "!wget -O mm10Tomm39.over.chain.gz https://hgdownload.soe.ucsc.edu/goldenPath/mm10/liftOver/mm10ToMm39.over.chain.gz"
   ]
  },
  {
   "cell_type": "code",
   "execution_count": 47,
   "metadata": {},
   "outputs": [
    {
     "name": "stdout",
     "output_type": "stream",
     "text": [
      "Reading liftover chains\n",
      "Mapping coordinates\n"
     ]
    }
   ],
   "source": [
    "# Run UCSC LiftOver to map the coordinates\n",
    "# Define variables\n",
    "min_match = 0.7\n",
    "input_bed = \"./RAW_Data/mm10_Karri_Annotations_Restructured_For_Liftovers.bed\"\n",
    "chain_file = \"mm10Tomm39.over.chain.gz\"\n",
    "output_bed = f\"./RAW_Data/Karri_et_al_mm39_liftover_annotations_ratio_{min_match}.bed\"\n",
    "unmapped_bed = f\"./RAW_Data/unmapped_coordinates_ratio_{min_match}.bed\"\n",
    "\n",
    "# Construct and run the command\n",
    "!./liftOver -minMatch={min_match} {input_bed} {chain_file} {output_bed} {unmapped_bed}"
   ]
  },
  {
   "cell_type": "code",
   "execution_count": 48,
   "metadata": {},
   "outputs": [],
   "source": [
    "# cleanup directory\n",
    "!rm -r liftOver\n",
    "!rm -r mm10Tomm39.over.chain.gz"
   ]
  },
  {
   "cell_type": "code",
   "execution_count": 49,
   "metadata": {},
   "outputs": [],
   "source": [
    "# Read LiftOver output (only successfully mapped entries)\n",
    "liftover_df = pd.read_csv('./RAW_Data/Karri_et_al_mm39_liftover_annotations_ratio_'+ str(min_match) +'.bed', sep='\\t', header=None,\n",
    "                          names=['seqname', 'start', 'end', 'ID', 'score', 'strand'])"
   ]
  },
  {
   "cell_type": "code",
   "execution_count": 50,
   "metadata": {},
   "outputs": [],
   "source": [
    "#Extract relevant annotation columns from bed_df for merging\n",
    "original_annot = bed_df[['ID', 'source', 'feature', 'attributes','frame',]]"
   ]
  },
  {
   "cell_type": "code",
   "execution_count": 51,
   "metadata": {},
   "outputs": [],
   "source": [
    "# Merge liftover_df with original_annot using 'ID', keeping all rows from liftover_df\n",
    "merged_df = liftover_df.merge(original_annot, on='ID', how='left')"
   ]
  },
  {
   "cell_type": "code",
   "execution_count": 54,
   "metadata": {},
   "outputs": [
    {
     "data": {
      "text/html": [
       "<div>\n",
       "<style scoped>\n",
       "    .dataframe tbody tr th:only-of-type {\n",
       "        vertical-align: middle;\n",
       "    }\n",
       "\n",
       "    .dataframe tbody tr th {\n",
       "        vertical-align: top;\n",
       "    }\n",
       "\n",
       "    .dataframe thead th {\n",
       "        text-align: right;\n",
       "    }\n",
       "</style>\n",
       "<table border=\"1\" class=\"dataframe\">\n",
       "  <thead>\n",
       "    <tr style=\"text-align: right;\">\n",
       "      <th></th>\n",
       "      <th>seqname</th>\n",
       "      <th>source</th>\n",
       "      <th>feature</th>\n",
       "      <th>start</th>\n",
       "      <th>end</th>\n",
       "      <th>score</th>\n",
       "      <th>strand</th>\n",
       "      <th>frame</th>\n",
       "      <th>attributes</th>\n",
       "    </tr>\n",
       "  </thead>\n",
       "  <tbody>\n",
       "    <tr>\n",
       "      <th>0</th>\n",
       "      <td>chr1</td>\n",
       "      <td>Genebody_mm10_lnc48261</td>\n",
       "      <td>exon</td>\n",
       "      <td>4540955</td>\n",
       "      <td>4541548</td>\n",
       "      <td>1000</td>\n",
       "      <td>-</td>\n",
       "      <td>.</td>\n",
       "      <td>gene_id \"lnc_inter_chr1_1\"; transcript_id \"lnc...</td>\n",
       "    </tr>\n",
       "    <tr>\n",
       "      <th>1</th>\n",
       "      <td>chr1</td>\n",
       "      <td>Genebody_mm10_lnc48261</td>\n",
       "      <td>exon</td>\n",
       "      <td>4814539</td>\n",
       "      <td>4815703</td>\n",
       "      <td>1000</td>\n",
       "      <td>-</td>\n",
       "      <td>.</td>\n",
       "      <td>gene_id \"lnc_inter_chr1_10\"; transcript_id \"ln...</td>\n",
       "    </tr>\n",
       "    <tr>\n",
       "      <th>2</th>\n",
       "      <td>chr1</td>\n",
       "      <td>Genebody_mm10_lnc48261</td>\n",
       "      <td>exon</td>\n",
       "      <td>21246735</td>\n",
       "      <td>21250265</td>\n",
       "      <td>1000</td>\n",
       "      <td>+</td>\n",
       "      <td>.</td>\n",
       "      <td>gene_id \"lnc_inter_chr1_100\"; transcript_id \"l...</td>\n",
       "    </tr>\n",
       "    <tr>\n",
       "      <th>3</th>\n",
       "      <td>chr1</td>\n",
       "      <td>Genebody_mm10_lnc48261</td>\n",
       "      <td>exon</td>\n",
       "      <td>191152396</td>\n",
       "      <td>191156841</td>\n",
       "      <td>1000</td>\n",
       "      <td>+</td>\n",
       "      <td>.</td>\n",
       "      <td>gene_id \"lnc_inter_chr1_1000\"; transcript_id \"...</td>\n",
       "    </tr>\n",
       "    <tr>\n",
       "      <th>4</th>\n",
       "      <td>chr11</td>\n",
       "      <td>Genebody_mm10_lnc48261</td>\n",
       "      <td>exon</td>\n",
       "      <td>94621886</td>\n",
       "      <td>94622550</td>\n",
       "      <td>1000</td>\n",
       "      <td>-</td>\n",
       "      <td>.</td>\n",
       "      <td>gene_id \"lnc_inter_chr11_10000\"; transcript_id...</td>\n",
       "    </tr>\n",
       "    <tr>\n",
       "      <th>...</th>\n",
       "      <td>...</td>\n",
       "      <td>...</td>\n",
       "      <td>...</td>\n",
       "      <td>...</td>\n",
       "      <td>...</td>\n",
       "      <td>...</td>\n",
       "      <td>...</td>\n",
       "      <td>...</td>\n",
       "      <td>...</td>\n",
       "    </tr>\n",
       "    <tr>\n",
       "      <th>82653</th>\n",
       "      <td>chrM</td>\n",
       "      <td>insdc</td>\n",
       "      <td>exon</td>\n",
       "      <td>9877</td>\n",
       "      <td>10173</td>\n",
       "      <td>.</td>\n",
       "      <td>+</td>\n",
       "      <td>.</td>\n",
       "      <td>gene_id \"ENSMUSG00000065947\"; transcript_id \"E...</td>\n",
       "    </tr>\n",
       "    <tr>\n",
       "      <th>82654</th>\n",
       "      <td>chrM</td>\n",
       "      <td>insdc</td>\n",
       "      <td>exon</td>\n",
       "      <td>10167</td>\n",
       "      <td>11544</td>\n",
       "      <td>.</td>\n",
       "      <td>+</td>\n",
       "      <td>.</td>\n",
       "      <td>gene_id \"ENSMUSG00000064363\"; transcript_id \"E...</td>\n",
       "    </tr>\n",
       "    <tr>\n",
       "      <th>82655</th>\n",
       "      <td>chrM</td>\n",
       "      <td>insdc</td>\n",
       "      <td>exon</td>\n",
       "      <td>11742</td>\n",
       "      <td>13565</td>\n",
       "      <td>.</td>\n",
       "      <td>+</td>\n",
       "      <td>.</td>\n",
       "      <td>gene_id \"ENSMUSG00000064367\"; transcript_id \"E...</td>\n",
       "    </tr>\n",
       "    <tr>\n",
       "      <th>82656</th>\n",
       "      <td>chrM</td>\n",
       "      <td>insdc</td>\n",
       "      <td>exon</td>\n",
       "      <td>13552</td>\n",
       "      <td>14070</td>\n",
       "      <td>.</td>\n",
       "      <td>-</td>\n",
       "      <td>.</td>\n",
       "      <td>gene_id \"ENSMUSG00000064368\"; transcript_id \"E...</td>\n",
       "    </tr>\n",
       "    <tr>\n",
       "      <th>82657</th>\n",
       "      <td>chrM</td>\n",
       "      <td>insdc</td>\n",
       "      <td>exon</td>\n",
       "      <td>14145</td>\n",
       "      <td>15288</td>\n",
       "      <td>.</td>\n",
       "      <td>+</td>\n",
       "      <td>.</td>\n",
       "      <td>gene_id \"ENSMUSG00000064370\"; transcript_id \"E...</td>\n",
       "    </tr>\n",
       "  </tbody>\n",
       "</table>\n",
       "<p>82658 rows × 9 columns</p>\n",
       "</div>"
      ],
      "text/plain": [
       "      seqname                  source feature      start        end score  \\\n",
       "0        chr1  Genebody_mm10_lnc48261    exon    4540955    4541548  1000   \n",
       "1        chr1  Genebody_mm10_lnc48261    exon    4814539    4815703  1000   \n",
       "2        chr1  Genebody_mm10_lnc48261    exon   21246735   21250265  1000   \n",
       "3        chr1  Genebody_mm10_lnc48261    exon  191152396  191156841  1000   \n",
       "4       chr11  Genebody_mm10_lnc48261    exon   94621886   94622550  1000   \n",
       "...       ...                     ...     ...        ...        ...   ...   \n",
       "82653    chrM                   insdc    exon       9877      10173     .   \n",
       "82654    chrM                   insdc    exon      10167      11544     .   \n",
       "82655    chrM                   insdc    exon      11742      13565     .   \n",
       "82656    chrM                   insdc    exon      13552      14070     .   \n",
       "82657    chrM                   insdc    exon      14145      15288     .   \n",
       "\n",
       "      strand frame                                         attributes  \n",
       "0          -     .  gene_id \"lnc_inter_chr1_1\"; transcript_id \"lnc...  \n",
       "1          -     .  gene_id \"lnc_inter_chr1_10\"; transcript_id \"ln...  \n",
       "2          +     .  gene_id \"lnc_inter_chr1_100\"; transcript_id \"l...  \n",
       "3          +     .  gene_id \"lnc_inter_chr1_1000\"; transcript_id \"...  \n",
       "4          -     .  gene_id \"lnc_inter_chr11_10000\"; transcript_id...  \n",
       "...      ...   ...                                                ...  \n",
       "82653      +     .  gene_id \"ENSMUSG00000065947\"; transcript_id \"E...  \n",
       "82654      +     .  gene_id \"ENSMUSG00000064363\"; transcript_id \"E...  \n",
       "82655      +     .  gene_id \"ENSMUSG00000064367\"; transcript_id \"E...  \n",
       "82656      -     .  gene_id \"ENSMUSG00000064368\"; transcript_id \"E...  \n",
       "82657      +     .  gene_id \"ENSMUSG00000064370\"; transcript_id \"E...  \n",
       "\n",
       "[82658 rows x 9 columns]"
      ]
     },
     "execution_count": 54,
     "metadata": {},
     "output_type": "execute_result"
    }
   ],
   "source": [
    "#Reorder and select final columns for the merged annotation DataFrame\n",
    "merged_df2 = merged_df[['seqname', 'source', 'feature', 'start', 'end', 'score', 'strand', 'frame', 'attributes']]"
   ]
  },
  {
   "cell_type": "markdown",
   "metadata": {},
   "source": [
    "## 3. Save restructured metadata file"
   ]
  },
  {
   "cell_type": "code",
   "execution_count": 58,
   "metadata": {},
   "outputs": [],
   "source": [
    "#Export merged_df2 to a GTF file without headers or quotes, using tab as separator\n",
    "import csv\n",
    "merged_df2.to_csv('./Karri_Annotations_Restructured_mm39.gtf', sep='\\t', \n",
    "                  index=False, header=False, quoting=csv.QUOTE_NONE, escapechar='')"
   ]
  },
  {
   "cell_type": "code",
   "execution_count": null,
   "metadata": {},
   "outputs": [],
   "source": []
  }
 ],
 "metadata": {
  "anaconda-cloud": {},
  "kernelspec": {
   "display_name": "SCVI New",
   "language": "python",
   "name": "scvi-env"
  },
  "language_info": {
   "codemirror_mode": {
    "name": "ipython",
    "version": 3
   },
   "file_extension": ".py",
   "mimetype": "text/x-python",
   "name": "python",
   "nbconvert_exporter": "python",
   "pygments_lexer": "ipython3",
   "version": "3.9.18"
  }
 },
 "nbformat": 4,
 "nbformat_minor": 4
}
