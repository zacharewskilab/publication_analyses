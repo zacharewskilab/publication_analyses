{
 "cells": [
  {
   "cell_type": "markdown",
   "metadata": {},
   "source": [
    "# Process genomic locations for MGI annotations mm39 lncRNAs"
   ]
  },
  {
   "cell_type": "markdown",
   "metadata": {},
   "source": [
    "## <br> 1. Import Required Packages"
   ]
  },
  {
   "cell_type": "code",
   "execution_count": 4,
   "metadata": {
    "tags": []
   },
   "outputs": [],
   "source": [
    "import numpy as np\n",
    "import pandas as pd"
   ]
  },
  {
   "cell_type": "code",
   "execution_count": 5,
   "metadata": {
    "tags": []
   },
   "outputs": [
    {
     "data": {
      "text/html": [
       "<div>\n",
       "<style scoped>\n",
       "    .dataframe tbody tr th:only-of-type {\n",
       "        vertical-align: middle;\n",
       "    }\n",
       "\n",
       "    .dataframe tbody tr th {\n",
       "        vertical-align: top;\n",
       "    }\n",
       "\n",
       "    .dataframe thead th {\n",
       "        text-align: right;\n",
       "    }\n",
       "</style>\n",
       "<table border=\"1\" class=\"dataframe\">\n",
       "  <thead>\n",
       "    <tr style=\"text-align: right;\">\n",
       "      <th></th>\n",
       "      <th>Chromosome</th>\n",
       "      <th>Start</th>\n",
       "      <th>End</th>\n",
       "      <th>Symbol</th>\n",
       "      <th>Score</th>\n",
       "      <th>strand GRCm39</th>\n",
       "    </tr>\n",
       "  </thead>\n",
       "  <tbody>\n",
       "    <tr>\n",
       "      <th>0</th>\n",
       "      <td>chr10</td>\n",
       "      <td>94509355</td>\n",
       "      <td>94524475</td>\n",
       "      <td>Cep83os</td>\n",
       "      <td>1000</td>\n",
       "      <td>-</td>\n",
       "    </tr>\n",
       "    <tr>\n",
       "      <th>1</th>\n",
       "      <td>chr4</td>\n",
       "      <td>107650358</td>\n",
       "      <td>107659261</td>\n",
       "      <td>Lrp8os3</td>\n",
       "      <td>1000</td>\n",
       "      <td>-</td>\n",
       "    </tr>\n",
       "    <tr>\n",
       "      <th>2</th>\n",
       "      <td>chr2</td>\n",
       "      <td>74578766</td>\n",
       "      <td>74593240</td>\n",
       "      <td>Haglr</td>\n",
       "      <td>1000</td>\n",
       "      <td>-</td>\n",
       "    </tr>\n",
       "    <tr>\n",
       "      <th>3</th>\n",
       "      <td>chr12</td>\n",
       "      <td>110241818</td>\n",
       "      <td>110244502</td>\n",
       "      <td>Dio3os</td>\n",
       "      <td>1000</td>\n",
       "      <td>-</td>\n",
       "    </tr>\n",
       "    <tr>\n",
       "      <th>4</th>\n",
       "      <td>chr8</td>\n",
       "      <td>12435771</td>\n",
       "      <td>12486732</td>\n",
       "      <td>Sox1ot</td>\n",
       "      <td>1000</td>\n",
       "      <td>+</td>\n",
       "    </tr>\n",
       "    <tr>\n",
       "      <th>...</th>\n",
       "      <td>...</td>\n",
       "      <td>...</td>\n",
       "      <td>...</td>\n",
       "      <td>...</td>\n",
       "      <td>...</td>\n",
       "      <td>...</td>\n",
       "    </tr>\n",
       "    <tr>\n",
       "      <th>24097</th>\n",
       "      <td>chr19</td>\n",
       "      <td>6182494</td>\n",
       "      <td>6191944</td>\n",
       "      <td>Gm57660</td>\n",
       "      <td>1000</td>\n",
       "      <td>+</td>\n",
       "    </tr>\n",
       "    <tr>\n",
       "      <th>24098</th>\n",
       "      <td>chr19</td>\n",
       "      <td>36218423</td>\n",
       "      <td>36229116</td>\n",
       "      <td>Gm57659</td>\n",
       "      <td>1000</td>\n",
       "      <td>-</td>\n",
       "    </tr>\n",
       "    <tr>\n",
       "      <th>24099</th>\n",
       "      <td>chr18</td>\n",
       "      <td>53433869</td>\n",
       "      <td>53446292</td>\n",
       "      <td>Gm57647</td>\n",
       "      <td>1000</td>\n",
       "      <td>+</td>\n",
       "    </tr>\n",
       "    <tr>\n",
       "      <th>24100</th>\n",
       "      <td>chr17</td>\n",
       "      <td>24769458</td>\n",
       "      <td>24782513</td>\n",
       "      <td>Gm57643</td>\n",
       "      <td>1000</td>\n",
       "      <td>+</td>\n",
       "    </tr>\n",
       "    <tr>\n",
       "      <th>24101</th>\n",
       "      <td>chr16</td>\n",
       "      <td>10320437</td>\n",
       "      <td>10336161</td>\n",
       "      <td>Gm57630</td>\n",
       "      <td>1000</td>\n",
       "      <td>-</td>\n",
       "    </tr>\n",
       "  </tbody>\n",
       "</table>\n",
       "<p>21408 rows × 6 columns</p>\n",
       "</div>"
      ],
      "text/plain": [
       "      Chromosome      Start        End   Symbol  Score strand GRCm39\n",
       "0          chr10   94509355   94524475  Cep83os   1000             -\n",
       "1           chr4  107650358  107659261  Lrp8os3   1000             -\n",
       "2           chr2   74578766   74593240    Haglr   1000             -\n",
       "3          chr12  110241818  110244502   Dio3os   1000             -\n",
       "4           chr8   12435771   12486732   Sox1ot   1000             +\n",
       "...          ...        ...        ...      ...    ...           ...\n",
       "24097      chr19    6182494    6191944  Gm57660   1000             +\n",
       "24098      chr19   36218423   36229116  Gm57659   1000             -\n",
       "24099      chr18   53433869   53446292  Gm57647   1000             +\n",
       "24100      chr17   24769458   24782513  Gm57643   1000             +\n",
       "24101      chr16   10320437   10336161  Gm57630   1000             -\n",
       "\n",
       "[21408 rows x 6 columns]"
      ]
     },
     "execution_count": 5,
     "metadata": {},
     "output_type": "execute_result"
    }
   ],
   "source": [
    "# Read the GTF file into a DataFrame\n",
    "MGI_Master = pd.read_csv('./RAW_Data/MGI_lncRNAs_mm39.txt', \n",
    "                         delimiter='\\t')\n",
    "\n",
    "# Drop rows where 'Start', 'End', or 'strand GRCm39' columns have NaN values\n",
    "MGI_Master.dropna(subset=['Start', 'End', 'strand GRCm39'], inplace=True)\n",
    "\n",
    "# Convert 'Start' and 'End' columns to integers\n",
    "MGI_Master['Start'] = MGI_Master['Start'].astype(int)\n",
    "MGI_Master['End'] = MGI_Master['End'].astype(int)\n",
    "\n",
    "MGI_Master['Score'] = 1000\n",
    "\n",
    "MGI_Master['Chromosome'] =  'chr' + MGI_Master['Chromosome']\n",
    "\n",
    "MGI_Master = MGI_Master[['Chromosome', 'Start', 'End', 'Symbol', 'Score', 'strand GRCm39']]\n",
    "\n",
    "\n",
    "MGI_Master"
   ]
  },
  {
   "cell_type": "markdown",
   "metadata": {},
   "source": [
    "## <br> 2. Save Restructured Data"
   ]
  },
  {
   "cell_type": "code",
   "execution_count": 6,
   "metadata": {},
   "outputs": [],
   "source": [
    "MGI_Master.to_csv('./RAW_Data/MGI_lncRNAs_mm39_Processed.txt', sep='\\t', header=False, index=False, na_rep=\"NaN\")"
   ]
  },
  {
   "cell_type": "code",
   "execution_count": null,
   "metadata": {},
   "outputs": [],
   "source": []
  }
 ],
 "metadata": {
  "anaconda-cloud": {},
  "kernelspec": {
   "display_name": "SCVI New",
   "language": "python",
   "name": "scvi-env"
  },
  "language_info": {
   "codemirror_mode": {
    "name": "ipython",
    "version": 3
   },
   "file_extension": ".py",
   "mimetype": "text/x-python",
   "name": "python",
   "nbconvert_exporter": "python",
   "pygments_lexer": "ipython3",
   "version": "3.9.18"
  }
 },
 "nbformat": 4,
 "nbformat_minor": 4
}
