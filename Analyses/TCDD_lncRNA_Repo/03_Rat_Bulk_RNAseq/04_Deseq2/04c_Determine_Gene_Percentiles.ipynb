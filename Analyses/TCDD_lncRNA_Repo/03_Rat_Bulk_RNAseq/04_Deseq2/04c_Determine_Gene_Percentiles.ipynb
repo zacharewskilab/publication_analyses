{
 "cells": [
  {
   "cell_type": "markdown",
   "metadata": {},
   "source": [
    "# Determine Abundance Percentiles of each Gene "
   ]
  },
  {
   "cell_type": "markdown",
   "metadata": {},
   "source": [
    "## <br> 1. Import Required Packages"
   ]
  },
  {
   "cell_type": "code",
   "execution_count": 1,
   "metadata": {},
   "outputs": [],
   "source": [
    "import matplotlib.pyplot as plt\n",
    "import numpy as np\n",
    "import pandas as pd\n",
    "import seaborn as sns"
   ]
  },
  {
   "cell_type": "markdown",
   "metadata": {},
   "source": [
    "## <br> 2. Import Deseq2 Data"
   ]
  },
  {
   "cell_type": "code",
   "execution_count": 2,
   "metadata": {},
   "outputs": [],
   "source": [
    "MASTER_Counts = pd.read_csv('./Deseq2_Results/10_vs_0.txt', \n",
    "                                       delimiter = '\\t',\n",
    "                                       index_col=0, \n",
    "                                       header=0)"
   ]
  },
  {
   "cell_type": "code",
   "execution_count": 3,
   "metadata": {},
   "outputs": [
    {
     "data": {
      "text/html": [
       "<div>\n",
       "<style scoped>\n",
       "    .dataframe tbody tr th:only-of-type {\n",
       "        vertical-align: middle;\n",
       "    }\n",
       "\n",
       "    .dataframe tbody tr th {\n",
       "        vertical-align: top;\n",
       "    }\n",
       "\n",
       "    .dataframe thead th {\n",
       "        text-align: right;\n",
       "    }\n",
       "</style>\n",
       "<table border=\"1\" class=\"dataframe\">\n",
       "  <thead>\n",
       "    <tr style=\"text-align: right;\">\n",
       "      <th></th>\n",
       "      <th>baseMean</th>\n",
       "      <th>log2FoldChange</th>\n",
       "      <th>lfcSE</th>\n",
       "      <th>stat</th>\n",
       "      <th>pvalue</th>\n",
       "      <th>padj</th>\n",
       "    </tr>\n",
       "  </thead>\n",
       "  <tbody>\n",
       "    <tr>\n",
       "      <th>lnc1000</th>\n",
       "      <td>1.021823</td>\n",
       "      <td>1.224408</td>\n",
       "      <td>1.866052</td>\n",
       "      <td>0.656149</td>\n",
       "      <td>5.117284e-01</td>\n",
       "      <td>NaN</td>\n",
       "    </tr>\n",
       "    <tr>\n",
       "      <th>lnc10000</th>\n",
       "      <td>0.046372</td>\n",
       "      <td>-1.398125</td>\n",
       "      <td>6.005823</td>\n",
       "      <td>-0.232795</td>\n",
       "      <td>8.159207e-01</td>\n",
       "      <td>NaN</td>\n",
       "    </tr>\n",
       "    <tr>\n",
       "      <th>lnc10001</th>\n",
       "      <td>0.146825</td>\n",
       "      <td>0.000000</td>\n",
       "      <td>6.005823</td>\n",
       "      <td>0.000000</td>\n",
       "      <td>1.000000e+00</td>\n",
       "      <td>NaN</td>\n",
       "    </tr>\n",
       "    <tr>\n",
       "      <th>lnc10003</th>\n",
       "      <td>0.177874</td>\n",
       "      <td>-1.398177</td>\n",
       "      <td>6.005823</td>\n",
       "      <td>-0.232804</td>\n",
       "      <td>8.159140e-01</td>\n",
       "      <td>NaN</td>\n",
       "    </tr>\n",
       "    <tr>\n",
       "      <th>lnc10004</th>\n",
       "      <td>0.740087</td>\n",
       "      <td>3.883753</td>\n",
       "      <td>3.422047</td>\n",
       "      <td>1.134921</td>\n",
       "      <td>2.564085e-01</td>\n",
       "      <td>NaN</td>\n",
       "    </tr>\n",
       "    <tr>\n",
       "      <th>...</th>\n",
       "      <td>...</td>\n",
       "      <td>...</td>\n",
       "      <td>...</td>\n",
       "      <td>...</td>\n",
       "      <td>...</td>\n",
       "      <td>...</td>\n",
       "    </tr>\n",
       "    <tr>\n",
       "      <th>LOC120099597</th>\n",
       "      <td>0.092333</td>\n",
       "      <td>-1.398142</td>\n",
       "      <td>6.005823</td>\n",
       "      <td>-0.232798</td>\n",
       "      <td>8.159184e-01</td>\n",
       "      <td>NaN</td>\n",
       "    </tr>\n",
       "    <tr>\n",
       "      <th>Dkc1</th>\n",
       "      <td>277.395024</td>\n",
       "      <td>1.901728</td>\n",
       "      <td>0.248099</td>\n",
       "      <td>7.665213</td>\n",
       "      <td>1.785343e-14</td>\n",
       "      <td>1.705286e-12</td>\n",
       "    </tr>\n",
       "    <tr>\n",
       "      <th>LOC103694537</th>\n",
       "      <td>17.353741</td>\n",
       "      <td>0.172073</td>\n",
       "      <td>0.466195</td>\n",
       "      <td>0.369101</td>\n",
       "      <td>7.120523e-01</td>\n",
       "      <td>8.501281e-01</td>\n",
       "    </tr>\n",
       "    <tr>\n",
       "      <th>LOC120099632</th>\n",
       "      <td>0.048942</td>\n",
       "      <td>0.000000</td>\n",
       "      <td>6.005823</td>\n",
       "      <td>0.000000</td>\n",
       "      <td>1.000000e+00</td>\n",
       "      <td>NaN</td>\n",
       "    </tr>\n",
       "    <tr>\n",
       "      <th>Etaa1</th>\n",
       "      <td>12.976070</td>\n",
       "      <td>0.108092</td>\n",
       "      <td>0.443788</td>\n",
       "      <td>0.243566</td>\n",
       "      <td>8.075670e-01</td>\n",
       "      <td>9.079024e-01</td>\n",
       "    </tr>\n",
       "  </tbody>\n",
       "</table>\n",
       "<p>45024 rows × 6 columns</p>\n",
       "</div>"
      ],
      "text/plain": [
       "                baseMean  log2FoldChange     lfcSE      stat        pvalue  \\\n",
       "lnc1000         1.021823        1.224408  1.866052  0.656149  5.117284e-01   \n",
       "lnc10000        0.046372       -1.398125  6.005823 -0.232795  8.159207e-01   \n",
       "lnc10001        0.146825        0.000000  6.005823  0.000000  1.000000e+00   \n",
       "lnc10003        0.177874       -1.398177  6.005823 -0.232804  8.159140e-01   \n",
       "lnc10004        0.740087        3.883753  3.422047  1.134921  2.564085e-01   \n",
       "...                  ...             ...       ...       ...           ...   \n",
       "LOC120099597    0.092333       -1.398142  6.005823 -0.232798  8.159184e-01   \n",
       "Dkc1          277.395024        1.901728  0.248099  7.665213  1.785343e-14   \n",
       "LOC103694537   17.353741        0.172073  0.466195  0.369101  7.120523e-01   \n",
       "LOC120099632    0.048942        0.000000  6.005823  0.000000  1.000000e+00   \n",
       "Etaa1          12.976070        0.108092  0.443788  0.243566  8.075670e-01   \n",
       "\n",
       "                      padj  \n",
       "lnc1000                NaN  \n",
       "lnc10000               NaN  \n",
       "lnc10001               NaN  \n",
       "lnc10003               NaN  \n",
       "lnc10004               NaN  \n",
       "...                    ...  \n",
       "LOC120099597           NaN  \n",
       "Dkc1          1.705286e-12  \n",
       "LOC103694537  8.501281e-01  \n",
       "LOC120099632           NaN  \n",
       "Etaa1         9.079024e-01  \n",
       "\n",
       "[45024 rows x 6 columns]"
      ]
     },
     "execution_count": 3,
     "metadata": {},
     "output_type": "execute_result"
    }
   ],
   "source": [
    "MASTER_Counts"
   ]
  },
  {
   "cell_type": "markdown",
   "metadata": {},
   "source": [
    "## <br> 3. Subset Data by Celltype"
   ]
  },
  {
   "cell_type": "code",
   "execution_count": 4,
   "metadata": {},
   "outputs": [
    {
     "data": {
      "text/plain": [
       "lnc1000         42.384062\n",
       "lnc10000         8.975213\n",
       "lnc10001        19.836087\n",
       "lnc10003        22.419154\n",
       "lnc10004        38.857054\n",
       "                  ...    \n",
       "LOC120099597    15.103056\n",
       "Dkc1            84.772566\n",
       "LOC103694537    66.902097\n",
       "LOC120099632     9.320585\n",
       "Etaa1           64.807658\n",
       "Name: baseMean, Length: 45024, dtype: float64"
      ]
     },
     "execution_count": 4,
     "metadata": {},
     "output_type": "execute_result"
    }
   ],
   "source": [
    "# Calculate the percentile of each row relative to each column (cell type)\n",
    "percentile_df = MASTER_Counts['baseMean'].rank(axis=0, pct=True) * 100\n",
    "\n",
    "percentile_df.to_csv(\"./Deseq2_Results/Max_Count_Gene_Percentile_Per_Celltype.txt\", index=True, sep='\\t')\n",
    "\n",
    "# Print the resulting DataFrame\n",
    "percentile_df"
   ]
  },
  {
   "cell_type": "code",
   "execution_count": 6,
   "metadata": {
    "scrolled": true
   },
   "outputs": [
    {
     "name": "stdout",
     "output_type": "stream",
     "text": [
      "99.96668443496802\n"
     ]
    }
   ],
   "source": [
    "# Spot Check Data\n",
    "gene = 'Cyp1a1'\n",
    "percentile = percentile_df.loc[gene]\n",
    "\n",
    "\n",
    "# Print the resulting row\n",
    "print(percentile)"
   ]
  },
  {
   "cell_type": "code",
   "execution_count": null,
   "metadata": {},
   "outputs": [],
   "source": []
  }
 ],
 "metadata": {
  "anaconda-cloud": {},
  "kernelspec": {
   "display_name": "Python (scvi-new)",
   "language": "python",
   "name": "scvi"
  },
  "language_info": {
   "codemirror_mode": {
    "name": "ipython",
    "version": 3
   },
   "file_extension": ".py",
   "mimetype": "text/x-python",
   "name": "python",
   "nbconvert_exporter": "python",
   "pygments_lexer": "ipython3",
   "version": "3.9.19"
  }
 },
 "nbformat": 4,
 "nbformat_minor": 4
}
