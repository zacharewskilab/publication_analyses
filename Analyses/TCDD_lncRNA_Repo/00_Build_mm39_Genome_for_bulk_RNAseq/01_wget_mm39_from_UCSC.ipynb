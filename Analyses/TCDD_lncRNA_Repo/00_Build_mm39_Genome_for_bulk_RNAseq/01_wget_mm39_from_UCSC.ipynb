{
 "cells": [
  {
   "cell_type": "code",
   "execution_count": 2,
   "id": "753c9e49-1471-41c5-a452-f07a58b40c04",
   "metadata": {},
   "outputs": [
    {
     "name": "stdout",
     "output_type": "stream",
     "text": [
      "File ‘hgdownload.soe.ucsc.edu/goldenPath/mm39/bigZips/mm39.fa.gz’ already there; not retrieving.\n",
      "\n"
     ]
    }
   ],
   "source": [
    "# Download the directory recursively but avoid overwriting and descending into parent directories\n",
    "!wget -r -nc -np https://hgdownload.soe.ucsc.edu/goldenPath/mm39/bigZips/mm39.fa.gz\n",
    "\n",
    "# Copy the desired file from the downloaded directory\n",
    "!cp ./hgdownload.soe.ucsc.edu/goldenPath/mm39/bigZips/mm39.fa.gz .\n",
    "\n",
    "# Remove the downloaded directory structure\n",
    "!rm -r hgdownload.soe.ucsc.edu\n",
    "\n",
    "# Decompress the file\n",
    "!gunzip mm39.fa.gz"
   ]
  },
  {
   "cell_type": "code",
   "execution_count": null,
   "id": "4859e4d5-c02f-4a98-ad60-cb461c1b9b61",
   "metadata": {},
   "outputs": [],
   "source": []
  }
 ],
 "metadata": {
  "kernelspec": {
   "display_name": "SCVI New",
   "language": "python",
   "name": "scvi-env"
  },
  "language_info": {
   "codemirror_mode": {
    "name": "ipython",
    "version": 3
   },
   "file_extension": ".py",
   "mimetype": "text/x-python",
   "name": "python",
   "nbconvert_exporter": "python",
   "pygments_lexer": "ipython3",
   "version": "3.9.18"
  }
 },
 "nbformat": 4,
 "nbformat_minor": 5
}
