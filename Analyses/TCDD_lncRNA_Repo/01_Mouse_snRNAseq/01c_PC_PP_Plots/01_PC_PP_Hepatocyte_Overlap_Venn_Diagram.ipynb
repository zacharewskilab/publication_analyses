{
 "cells": [
  {
   "cell_type": "markdown",
   "metadata": {},
   "source": [
    "# Determine DEGs in Deseq2 Data"
   ]
  },
  {
   "cell_type": "markdown",
   "metadata": {},
   "source": [
    "### 1. Import Required Packages\n",
    "### 2. Import Deseq2 Data\n",
    "### 3. Find Total Genes, DEGs, lncRNA DEGs, and Protein-Coding DEGs in Hepatocytes\n",
    "### 4. K-Means Clustering of all Hepatocyte lncRNA DEGs\n",
    "### 5. Plot k-means data\n"
   ]
  },
  {
   "cell_type": "markdown",
   "metadata": {},
   "source": [
    "## <br> 1. Import Required Packages"
   ]
  },
  {
   "cell_type": "code",
   "execution_count": 6,
   "metadata": {
    "tags": []
   },
   "outputs": [],
   "source": [
    "import numpy as np\n",
    "import pandas as pd\n",
    "import seaborn as sns\n",
    "import matplotlib.pyplot as plt\n",
    "from matplotlib.colors import ListedColormap\n",
    "from matplotlib.colors import LinearSegmentedColormap\n",
    "from matplotlib import gridspec\n",
    "from matplotlib_venn import venn2\n",
    "from matplotlib_venn import venn3\n",
    "import warnings"
   ]
  },
  {
   "cell_type": "code",
   "execution_count": 2,
   "metadata": {
    "tags": []
   },
   "outputs": [],
   "source": [
    "Deseq2_Directory = '../03a_TC_DEG_Analysis/Results/03d_MASTER_Deseq2_Concatonated/TC_Deseq2_Master_Wald_with_MGI.txt'\n",
    "\n",
    "Deseq2_Master_TC = pd.read_csv(Deseq2_Directory, \n",
    "                            delimiter = '\\t',\n",
    "                            index_col=0)\n",
    "\n",
    "Deseq2_Master_TC['Time'] = Deseq2_Master_TC['Time'].astype('category')\n",
    "\n",
    "\n",
    "Deseq2_Master_TC = Deseq2_Master_TC.sort_values(by='Gene')\n",
    "Deseq2_Master_TC.reset_index(drop=True, inplace=True)\n",
    "\n",
    "Deseq2_Master_TC_lncRNA = Deseq2_Master_TC[(Deseq2_Master_TC['Type']== 'lncRNA') |\n",
    "                                     (Deseq2_Master_TC['Type']== 'antisense') |\n",
    "                                     (Deseq2_Master_TC['Type']== 'lincRNA') |\n",
    "                                     (Deseq2_Master_TC['Type']== 'NR') |\n",
    "                                     (Deseq2_Master_TC['Type']== 'lncOfInterest')]"
   ]
  },
  {
   "cell_type": "code",
   "execution_count": 3,
   "metadata": {},
   "outputs": [],
   "source": [
    "Percentile_Directory = '../03a_TC_DEG_Analysis/Results/03c_Gene_Counts_and_Percentiles/Max_Count_Gene_Percentile_Per_Celltype.txt'\n",
    "\n",
    "percentile_df_TC = pd.read_csv(Percentile_Directory, \n",
    "                            delimiter = '\\t',\n",
    "                            index_col=0)"
   ]
  },
  {
   "cell_type": "markdown",
   "metadata": {},
   "source": [
    "## <br> 2. Import RDDR Deseq2 Data"
   ]
  },
  {
   "cell_type": "code",
   "execution_count": 9,
   "metadata": {
    "tags": []
   },
   "outputs": [],
   "source": [
    "Deseq2_Directory = '../01b_RDDR_DEG_Analysis/Results/03d_MASTER_Deseq2_Concatonated/RDDR_Deseq2_Master_Wald_with_MGI.txt'\n",
    "\n",
    "Deseq2_Master = pd.read_csv(Deseq2_Directory, \n",
    "                            delimiter = '\\t',\n",
    "                            index_col=0)\n",
    "\n",
    "Deseq2_Master['Dose'] = Deseq2_Master['Dose'].astype('category')\n",
    "\n",
    "\n",
    "Deseq2_Master = Deseq2_Master.sort_values(by='Gene')\n",
    "Deseq2_Master.reset_index(drop=True, inplace=True)\n",
    "\n",
    "Deseq2_Master_lncRNA = Deseq2_Master[(Deseq2_Master['Type']== 'lncRNA') |\n",
    "                                     (Deseq2_Master['Type']== 'antisense') |\n",
    "                                     (Deseq2_Master['Type']== 'lincRNA') |\n",
    "                                     (Deseq2_Master['Type']== 'NR') |\n",
    "                                     (Deseq2_Master['Type']== 'lncOfInterest')]"
   ]
  },
  {
   "cell_type": "code",
   "execution_count": 10,
   "metadata": {},
   "outputs": [],
   "source": [
    "Percentile_Directory = '../01b_RDDR_DEG_Analysis/Results/03c_Gene_Counts_and_Percentiles/Max_Count_Gene_Percentile_Per_Celltype.txt'\n",
    "\n",
    "percentile_df = pd.read_csv(Percentile_Directory, \n",
    "                            delimiter = '\\t',\n",
    "                            index_col=0)"
   ]
  },
  {
   "cell_type": "markdown",
   "metadata": {},
   "source": [
    "## 3. Process Dose Response Data"
   ]
  },
  {
   "cell_type": "code",
   "execution_count": 11,
   "metadata": {},
   "outputs": [],
   "source": [
    "#define Log2FC threshold and padj-value\n",
    "FC = 1.5\n",
    "padj = 0.05"
   ]
  },
  {
   "cell_type": "code",
   "execution_count": 12,
   "metadata": {},
   "outputs": [],
   "source": [
    "Deseq2_PC_Hep = Deseq2_Master_lncRNA[Deseq2_Master_lncRNA['Celltype'] == 'Centrilobular Hepatocytes']\n",
    "Deseq2_PP_Hep = Deseq2_Master_lncRNA[Deseq2_Master_lncRNA['Celltype'] == 'Periportal Hepatocytes']\n",
    "\n",
    "percentile_PC_Hep = percentile_df[['Centrilobular Hepatocytes']]\n",
    "percentile_PP_Hep = percentile_df[['Periportal Hepatocytes']]\n",
    "\n",
    "percentile_PC_Hep.reset_index(inplace=True)\n",
    "percentile_PP_Hep.reset_index(inplace=True)\n",
    "\n",
    "# Perform the merge based on the 'Gene' column from Deseq2_PC_Hep and the index from percentile_df\n",
    "PC_Hep_Merged = pd.merge(Deseq2_PC_Hep, percentile_PC_Hep, left_on='Gene', right_on='index')\n",
    "PC_Hep_Merged.drop(columns=['index'], inplace=True)\n",
    "\n",
    "PP_Hep_Merged = pd.merge(Deseq2_PP_Hep, percentile_PP_Hep, left_on='Gene', right_on='index')\n",
    "PP_Hep_Merged.drop(columns=['index'], inplace=True)\n",
    "\n",
    "# Rename the 'X Hepatocytes' column to 'Abundance Percentile'\n",
    "PC_Hep_Merged.rename(columns={'Centrilobular Hepatocytes': 'Abundance Percentile'}, inplace=True)\n",
    "PP_Hep_Merged.rename(columns={'Periportal Hepatocytes': 'Abundance Percentile'}, inplace=True)\n",
    "\n",
    "PC_Hep_Merged_Short = PC_Hep_Merged[['Gene','Celltype','Dose','Fold-Change','log2FoldChange','padj','Abundance Percentile']].drop_duplicates(keep='first')\n",
    "PP_Hep_Merged_Short = PP_Hep_Merged[['Gene','Celltype','Dose','Fold-Change','log2FoldChange','padj','Abundance Percentile']].drop_duplicates(keep='first')\n",
    "\n",
    "\n",
    "PC_Hep_DEGs = PC_Hep_Merged_Short[((PC_Hep_Merged_Short['Fold-Change'] >= FC) | \n",
    "                             (PC_Hep_Merged_Short['Fold-Change'] <= 1/FC)) &\n",
    "                             (PC_Hep_Merged_Short['padj'] <= padj)\n",
    "                            ]\n",
    "\n",
    "PP_Hep_DEGs = PP_Hep_Merged_Short[((PP_Hep_Merged_Short['Fold-Change'] >= FC) | \n",
    "                             (PP_Hep_Merged_Short['Fold-Change'] <= 1/FC)) &\n",
    "                             (PP_Hep_Merged_Short['padj'] <= padj)\n",
    "                           ]\n",
    "\n",
    "#extract only the Abundace Percentiles for histograms\n",
    "PC_Hep_DEGs_List = PC_Hep_DEGs[['Gene', 'Abundance Percentile']].drop_duplicates(keep='first')\n",
    "PP_Hep_DEGs_List = PP_Hep_DEGs[['Gene', 'Abundance Percentile']].drop_duplicates(keep='first')\n",
    "\n",
    "PC_Hep_DEGs_30 = PC_Hep_DEGs[PC_Hep_DEGs['Dose'] == 30.00]\n",
    "PP_Hep_DEGs_30 = PP_Hep_DEGs[PP_Hep_DEGs['Dose'] == 30.00]\n"
   ]
  },
  {
   "cell_type": "markdown",
   "metadata": {},
   "source": [
    "## 4A. Determine overlapping DEGs in the RDDR from any Dose"
   ]
  },
  {
   "cell_type": "code",
   "execution_count": 15,
   "metadata": {},
   "outputs": [],
   "source": [
    "# Find common DEGs from any Dose\n",
    "common_genes = pd.merge(PP_Hep_DEGs, PC_Hep_DEGs, on='Gene', suffixes=('_PP', '_PC')).drop_duplicates(keep='first')\n",
    "\n",
    "# Find genes only in PP\n",
    "only_PP = PP_Hep_DEGs[~PP_Hep_DEGs['Gene'].isin(PC_Hep_DEGs['Gene'])].drop_duplicates(subset=['Gene'], keep='first')\n",
    "\n",
    "# Find genes only in PC\n",
    "only_PC = PC_Hep_DEGs[~PC_Hep_DEGs['Gene'].isin(PP_Hep_DEGs['Gene'])].drop_duplicates(subset=['Gene'], keep='first')\n"
   ]
  },
  {
   "cell_type": "code",
   "execution_count": 16,
   "metadata": {},
   "outputs": [
    {
     "data": {
      "image/png": "[encoded data removed]",
      "text/plain": [
       "<Figure size 400x400 with 1 Axes>"
      ]
     },
     "metadata": {},
     "output_type": "display_data"
    }
   ],
   "source": [
    "# Extract the sets\n",
    "set_PP = set(only_PP['Gene'])\n",
    "set_PC = set(only_PC['Gene'])\n",
    "set_common = set(common_genes['Gene'])\n",
    "\n",
    "# Calculate the sizes for the Venn diagram\n",
    "only_PP_size = len(set_PP)\n",
    "only_PC_size = len(set_PC)\n",
    "common_size = len(set_common)\n",
    "\n",
    "# Create the Venn diagram\n",
    "plt.figure(figsize=(4,4))\n",
    "venn = venn2(subsets=(only_PP_size, only_PC_size, common_size), \n",
    "             set_labels=('Periportal \\nHepatocytes', 'Pericentral \\nHepatocytes'))\n",
    "\n",
    "# Customize the colors\n",
    "venn.get_patch_by_id('10').set_color('#d3d3d3')  # Only PP\n",
    "venn.get_patch_by_id('01').set_color('#d3d3d3')  # Only PC\n",
    "venn.get_patch_by_id('11').set_color('#4f4f4f')  # Common\n",
    "\n",
    "# Set transparency (alpha)\n",
    "venn.get_patch_by_id('10').set_alpha(0.5)\n",
    "venn.get_patch_by_id('01').set_alpha(0.5)\n",
    "venn.get_patch_by_id('11').set_alpha(0.5)\n",
    "\n",
    "# Add black border\n",
    "venn.get_patch_by_id('10').set_edgecolor('black')\n",
    "venn.get_patch_by_id('01').set_edgecolor('black')\n",
    "venn.get_patch_by_id('11').set_edgecolor('black')\n",
    "\n",
    "# Set the edge width\n",
    "venn.get_patch_by_id('10').set_linewidth(1.0)\n",
    "venn.get_patch_by_id('01').set_linewidth(1.0)\n",
    "venn.get_patch_by_id('11').set_linewidth(1.0)\n",
    "\n",
    "\n",
    "# Display the plot\n",
    "#plt.title(\"Venn Diagram of DEGs in PP and PC\")\n",
    "\n",
    "plt.savefig('./Figures/Venn_Diagram_DEGs_PP_PC.pdf', format='pdf')\n",
    "\n",
    "plt.show()"
   ]
  },
  {
   "cell_type": "markdown",
   "metadata": {},
   "source": [
    "## 4B. Determine overlapping DEGs in the RDDR from only the 30 ug/kg dose"
   ]
  },
  {
   "cell_type": "code",
   "execution_count": 17,
   "metadata": {},
   "outputs": [],
   "source": [
    "# Find common DEGs from any time-point\n",
    "common_genes_30 = pd.merge(PP_Hep_DEGs_30, PC_Hep_DEGs_30, on='Gene', suffixes=('_PP', '_PC')).drop_duplicates(keep='first')\n",
    "\n",
    "# Find genes only in PP\n",
    "only_PP_30 = PP_Hep_DEGs_30[~PP_Hep_DEGs_30['Gene'].isin(PC_Hep_DEGs_30['Gene'])].drop_duplicates(subset=['Gene'], keep='first')\n",
    "\n",
    "# Find genes only in PC\n",
    "only_PC_30 = PC_Hep_DEGs_30[~PC_Hep_DEGs_30['Gene'].isin(PP_Hep_DEGs_30['Gene'])].drop_duplicates(subset=['Gene'], keep='first')\n"
   ]
  },
  {
   "cell_type": "code",
   "execution_count": 18,
   "metadata": {},
   "outputs": [
    {
     "data": {
      "image/png": "[encoded data removed]",
      "text/plain": [
       "<Figure size 400x400 with 1 Axes>"
      ]
     },
     "metadata": {},
     "output_type": "display_data"
    }
   ],
   "source": [
    "# Extract the sets\n",
    "set_PP = set(only_PP_30['Gene'])\n",
    "set_PC = set(only_PC_30['Gene'])\n",
    "set_common = set(common_genes_30['Gene'])\n",
    "\n",
    "# Calculate the sizes for the Venn diagram\n",
    "only_PP_size = len(set_PP)\n",
    "only_PC_size = len(set_PC)\n",
    "common_size = len(set_common)\n",
    "\n",
    "# Create the Venn diagram\n",
    "plt.figure(figsize=(4,4))\n",
    "venn = venn2(subsets=(only_PP_size, only_PC_size, common_size), \n",
    "             set_labels=('Periportal \\nHepatocytes', 'Pericentral \\nHepatocytes'))\n",
    "\n",
    "# Customize the colors\n",
    "venn.get_patch_by_id('10').set_color('#d3d3d3')  # Only PP\n",
    "venn.get_patch_by_id('01').set_color('#d3d3d3')  # Only PC\n",
    "venn.get_patch_by_id('11').set_color('#4f4f4f')  # Common\n",
    "\n",
    "# Set transparency (alpha)\n",
    "venn.get_patch_by_id('10').set_alpha(0.5)\n",
    "venn.get_patch_by_id('01').set_alpha(0.5)\n",
    "venn.get_patch_by_id('11').set_alpha(0.5)\n",
    "\n",
    "# Add black border\n",
    "venn.get_patch_by_id('10').set_edgecolor('black')\n",
    "venn.get_patch_by_id('01').set_edgecolor('black')\n",
    "venn.get_patch_by_id('11').set_edgecolor('black')\n",
    "\n",
    "# Set the edge width\n",
    "venn.get_patch_by_id('10').set_linewidth(1.0)\n",
    "venn.get_patch_by_id('01').set_linewidth(1.0)\n",
    "venn.get_patch_by_id('11').set_linewidth(1.0)\n",
    "\n",
    "\n",
    "# Display the plot\n",
    "#plt.title(\"Venn Diagram of DEGs in PP and PC\")\n",
    "\n",
    "plt.savefig('./Figures/Venn_Diagram_DEGs_PP_PC_30ug_kg.pdf', format='pdf')\n",
    "\n",
    "plt.show()"
   ]
  },
  {
   "cell_type": "code",
   "execution_count": null,
   "metadata": {},
   "outputs": [],
   "source": []
  }
 ],
 "metadata": {
  "anaconda-cloud": {},
  "kernelspec": {
   "display_name": "Python (scvi-new)",
   "language": "python",
   "name": "scvi"
  },
  "language_info": {
   "codemirror_mode": {
    "name": "ipython",
    "version": 3
   },
   "file_extension": ".py",
   "mimetype": "text/x-python",
   "name": "python",
   "nbconvert_exporter": "python",
   "pygments_lexer": "ipython3",
   "version": "3.9.19"
  }
 },
 "nbformat": 4,
 "nbformat_minor": 4
}
