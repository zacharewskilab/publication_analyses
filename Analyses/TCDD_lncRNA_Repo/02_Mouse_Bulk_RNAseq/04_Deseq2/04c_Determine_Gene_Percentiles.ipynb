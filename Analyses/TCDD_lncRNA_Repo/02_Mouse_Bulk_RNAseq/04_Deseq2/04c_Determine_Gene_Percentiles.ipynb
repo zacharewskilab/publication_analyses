{
 "cells": [
  {
   "cell_type": "markdown",
   "metadata": {},
   "source": [
    "# Determine Abundance Percentiles of each Gene "
   ]
  },
  {
   "cell_type": "markdown",
   "metadata": {},
   "source": [
    "## <br> 1. Import Required Packages"
   ]
  },
  {
   "cell_type": "code",
   "execution_count": 1,
   "metadata": {},
   "outputs": [],
   "source": [
    "import matplotlib.pyplot as plt\n",
    "import numpy as np\n",
    "import pandas as pd\n",
    "import seaborn as sns"
   ]
  },
  {
   "cell_type": "markdown",
   "metadata": {},
   "source": [
    "## <br> 2. Import Deseq2 Data"
   ]
  },
  {
   "cell_type": "code",
   "execution_count": 2,
   "metadata": {},
   "outputs": [],
   "source": [
    "MASTER_Counts = pd.read_csv('./Deseq2_Results/30_vs_0.txt', \n",
    "                                       delimiter = '\\t',\n",
    "                                       index_col=0, \n",
    "                                       header=0)"
   ]
  },
  {
   "cell_type": "code",
   "execution_count": 3,
   "metadata": {},
   "outputs": [
    {
     "data": {
      "text/html": [
       "<div>\n",
       "<style scoped>\n",
       "    .dataframe tbody tr th:only-of-type {\n",
       "        vertical-align: middle;\n",
       "    }\n",
       "\n",
       "    .dataframe tbody tr th {\n",
       "        vertical-align: top;\n",
       "    }\n",
       "\n",
       "    .dataframe thead th {\n",
       "        text-align: right;\n",
       "    }\n",
       "</style>\n",
       "<table border=\"1\" class=\"dataframe\">\n",
       "  <thead>\n",
       "    <tr style=\"text-align: right;\">\n",
       "      <th></th>\n",
       "      <th>baseMean</th>\n",
       "      <th>log2FoldChange</th>\n",
       "      <th>lfcSE</th>\n",
       "      <th>stat</th>\n",
       "      <th>pvalue</th>\n",
       "      <th>padj</th>\n",
       "    </tr>\n",
       "  </thead>\n",
       "  <tbody>\n",
       "    <tr>\n",
       "      <th>lnc_inter_chr1_100</th>\n",
       "      <td>0.738981</td>\n",
       "      <td>1.444482</td>\n",
       "      <td>2.366036</td>\n",
       "      <td>0.610507</td>\n",
       "      <td>5.415259e-01</td>\n",
       "      <td>NaN</td>\n",
       "    </tr>\n",
       "    <tr>\n",
       "      <th>lnc_inter_chr1_1000</th>\n",
       "      <td>0.821042</td>\n",
       "      <td>0.461511</td>\n",
       "      <td>1.983077</td>\n",
       "      <td>0.232725</td>\n",
       "      <td>8.159753e-01</td>\n",
       "      <td>NaN</td>\n",
       "    </tr>\n",
       "    <tr>\n",
       "      <th>lnc_as_chr11_10003</th>\n",
       "      <td>0.300701</td>\n",
       "      <td>2.146337</td>\n",
       "      <td>5.613363</td>\n",
       "      <td>0.382362</td>\n",
       "      <td>7.021928e-01</td>\n",
       "      <td>NaN</td>\n",
       "    </tr>\n",
       "    <tr>\n",
       "      <th>lnc_as_chr11_10004</th>\n",
       "      <td>2.027109</td>\n",
       "      <td>5.966163</td>\n",
       "      <td>1.679561</td>\n",
       "      <td>3.552216</td>\n",
       "      <td>3.820019e-04</td>\n",
       "      <td>1.491528e-03</td>\n",
       "    </tr>\n",
       "    <tr>\n",
       "      <th>lnc_inter_chr11_10005</th>\n",
       "      <td>8.027321</td>\n",
       "      <td>1.326072</td>\n",
       "      <td>0.551914</td>\n",
       "      <td>2.402679</td>\n",
       "      <td>1.627547e-02</td>\n",
       "      <td>4.220554e-02</td>\n",
       "    </tr>\n",
       "    <tr>\n",
       "      <th>...</th>\n",
       "      <td>...</td>\n",
       "      <td>...</td>\n",
       "      <td>...</td>\n",
       "      <td>...</td>\n",
       "      <td>...</td>\n",
       "      <td>...</td>\n",
       "    </tr>\n",
       "    <tr>\n",
       "      <th>ENSMUSG00000065947</th>\n",
       "      <td>28.894681</td>\n",
       "      <td>-0.353649</td>\n",
       "      <td>0.350916</td>\n",
       "      <td>-1.007790</td>\n",
       "      <td>3.135553e-01</td>\n",
       "      <td>4.619477e-01</td>\n",
       "    </tr>\n",
       "    <tr>\n",
       "      <th>ENSMUSG00000064363</th>\n",
       "      <td>98368.928940</td>\n",
       "      <td>-0.549831</td>\n",
       "      <td>0.082421</td>\n",
       "      <td>-6.670989</td>\n",
       "      <td>2.540855e-11</td>\n",
       "      <td>2.695554e-10</td>\n",
       "    </tr>\n",
       "    <tr>\n",
       "      <th>ENSMUSG00000064367</th>\n",
       "      <td>67723.157378</td>\n",
       "      <td>-0.101532</td>\n",
       "      <td>0.100825</td>\n",
       "      <td>-1.007009</td>\n",
       "      <td>3.139304e-01</td>\n",
       "      <td>4.622247e-01</td>\n",
       "    </tr>\n",
       "    <tr>\n",
       "      <th>ENSMUSG00000064368</th>\n",
       "      <td>19830.183491</td>\n",
       "      <td>0.154663</td>\n",
       "      <td>0.185883</td>\n",
       "      <td>0.832043</td>\n",
       "      <td>4.053847e-01</td>\n",
       "      <td>5.561182e-01</td>\n",
       "    </tr>\n",
       "    <tr>\n",
       "      <th>ENSMUSG00000064370</th>\n",
       "      <td>169173.377707</td>\n",
       "      <td>-0.665665</td>\n",
       "      <td>0.084196</td>\n",
       "      <td>-7.906137</td>\n",
       "      <td>2.654997e-15</td>\n",
       "      <td>4.205192e-14</td>\n",
       "    </tr>\n",
       "  </tbody>\n",
       "</table>\n",
       "<p>46419 rows × 6 columns</p>\n",
       "</div>"
      ],
      "text/plain": [
       "                            baseMean  log2FoldChange     lfcSE      stat  \\\n",
       "lnc_inter_chr1_100          0.738981        1.444482  2.366036  0.610507   \n",
       "lnc_inter_chr1_1000         0.821042        0.461511  1.983077  0.232725   \n",
       "lnc_as_chr11_10003          0.300701        2.146337  5.613363  0.382362   \n",
       "lnc_as_chr11_10004          2.027109        5.966163  1.679561  3.552216   \n",
       "lnc_inter_chr11_10005       8.027321        1.326072  0.551914  2.402679   \n",
       "...                              ...             ...       ...       ...   \n",
       "ENSMUSG00000065947         28.894681       -0.353649  0.350916 -1.007790   \n",
       "ENSMUSG00000064363      98368.928940       -0.549831  0.082421 -6.670989   \n",
       "ENSMUSG00000064367      67723.157378       -0.101532  0.100825 -1.007009   \n",
       "ENSMUSG00000064368      19830.183491        0.154663  0.185883  0.832043   \n",
       "ENSMUSG00000064370     169173.377707       -0.665665  0.084196 -7.906137   \n",
       "\n",
       "                             pvalue          padj  \n",
       "lnc_inter_chr1_100     5.415259e-01           NaN  \n",
       "lnc_inter_chr1_1000    8.159753e-01           NaN  \n",
       "lnc_as_chr11_10003     7.021928e-01           NaN  \n",
       "lnc_as_chr11_10004     3.820019e-04  1.491528e-03  \n",
       "lnc_inter_chr11_10005  1.627547e-02  4.220554e-02  \n",
       "...                             ...           ...  \n",
       "ENSMUSG00000065947     3.135553e-01  4.619477e-01  \n",
       "ENSMUSG00000064363     2.540855e-11  2.695554e-10  \n",
       "ENSMUSG00000064367     3.139304e-01  4.622247e-01  \n",
       "ENSMUSG00000064368     4.053847e-01  5.561182e-01  \n",
       "ENSMUSG00000064370     2.654997e-15  4.205192e-14  \n",
       "\n",
       "[46419 rows x 6 columns]"
      ]
     },
     "execution_count": 3,
     "metadata": {},
     "output_type": "execute_result"
    }
   ],
   "source": [
    "MASTER_Counts"
   ]
  },
  {
   "cell_type": "markdown",
   "metadata": {},
   "source": [
    "## <br> 3. Subset Data by Celltype"
   ]
  },
  {
   "cell_type": "code",
   "execution_count": 4,
   "metadata": {},
   "outputs": [
    {
     "data": {
      "text/plain": [
       "lnc_inter_chr1_100       44.669209\n",
       "lnc_inter_chr1_1000      45.838988\n",
       "lnc_as_chr11_10003       32.833538\n",
       "lnc_as_chr11_10004       55.763804\n",
       "lnc_inter_chr11_10005    66.371529\n",
       "                           ...    \n",
       "ENSMUSG00000065947       73.301881\n",
       "ENSMUSG00000064363       99.978457\n",
       "ENSMUSG00000064367       99.969840\n",
       "ENSMUSG00000064368       99.834120\n",
       "ENSMUSG00000064370       99.987074\n",
       "Name: baseMean, Length: 46419, dtype: float64"
      ]
     },
     "execution_count": 4,
     "metadata": {},
     "output_type": "execute_result"
    }
   ],
   "source": [
    "# Calculate the percentile of each row relative to each column (cell type)\n",
    "percentile_df = MASTER_Counts['baseMean'].rank(axis=0, pct=True) * 100\n",
    "\n",
    "percentile_df.to_csv(\"./Deseq2_Results/Max_Count_Gene_Percentile_Per_Celltype.txt\", index=True, sep='\\t')\n",
    "\n",
    "# Print the resulting DataFrame\n",
    "percentile_df"
   ]
  },
  {
   "cell_type": "code",
   "execution_count": 6,
   "metadata": {
    "scrolled": true
   },
   "outputs": [
    {
     "name": "stdout",
     "output_type": "stream",
     "text": [
      "99.96553135569486\n"
     ]
    }
   ],
   "source": [
    "# Spot Check Data\n",
    "gene = 'Cyp1a1'\n",
    "percentile = percentile_df.loc[gene]\n",
    "\n",
    "\n",
    "# Print the resulting row\n",
    "print(percentile)"
   ]
  },
  {
   "cell_type": "code",
   "execution_count": null,
   "metadata": {},
   "outputs": [],
   "source": []
  }
 ],
 "metadata": {
  "anaconda-cloud": {},
  "kernelspec": {
   "display_name": "Python (scvi-new)",
   "language": "python",
   "name": "scvi"
  },
  "language_info": {
   "codemirror_mode": {
    "name": "ipython",
    "version": 3
   },
   "file_extension": ".py",
   "mimetype": "text/x-python",
   "name": "python",
   "nbconvert_exporter": "python",
   "pygments_lexer": "ipython3",
   "version": "3.9.19"
  }
 },
 "nbformat": 4,
 "nbformat_minor": 4
}
