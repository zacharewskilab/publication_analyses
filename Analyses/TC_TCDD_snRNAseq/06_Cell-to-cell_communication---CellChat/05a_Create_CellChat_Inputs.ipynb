{
 "cells": [
  {
   "cell_type": "markdown",
   "metadata": {},
   "source": [
    "# CellChat RAW data creation"
   ]
  },
  {
   "cell_type": "markdown",
   "metadata": {},
   "source": [
    "### 1. Import Required Packages\n",
    "### 2. Import Prior Clustered Data\n",
    "### 3. Prep and Export Data\n"
   ]
  },
  {
   "cell_type": "markdown",
   "metadata": {},
   "source": [
    "## <br> 1. Import Required Packages"
   ]
  },
  {
   "cell_type": "code",
   "execution_count": 1,
   "metadata": {},
   "outputs": [],
   "source": [
    "import os\n",
    "import time\n",
    "\n",
    "import matplotlib.pyplot as plt\n",
    "import numpy as np\n",
    "import pandas as pd\n",
    "import scanpy as sc\n",
    "import anndata as ad\n",
    "import seaborn as sns\n",
    "import gseapy as gp\n",
    "\n",
    "\n",
    "from scipy import sparse\n",
    "import scipy.io as sio\n",
    "from anndata import AnnData\n",
    "from anndata.experimental.multi_files import AnnCollection"
   ]
  },
  {
   "cell_type": "markdown",
   "metadata": {},
   "source": [
    "## <br> 2. Import Prior Clustered Data"
   ]
  },
  {
   "cell_type": "code",
   "execution_count": 2,
   "metadata": {},
   "outputs": [],
   "source": [
    "adata =  ad.read_h5ad('../01_Libraries_Integration_and_Analysis---scVI/Adata_Objects/01f_AllGenes_Clustered_And_Annotated_Cells.h5ad')\n"
   ]
  },
  {
   "cell_type": "code",
   "execution_count": 3,
   "metadata": {},
   "outputs": [
    {
     "name": "stdout",
     "output_type": "stream",
     "text": [
      "Raw AnnData with n_obs × n_vars = 263070 × 22917\n"
     ]
    }
   ],
   "source": [
    "print(adata.raw)"
   ]
  },
  {
   "cell_type": "code",
   "execution_count": 4,
   "metadata": {
    "scrolled": true
   },
   "outputs": [
    {
     "name": "stdout",
     "output_type": "stream",
     "text": [
      "AnnData object with n_obs × n_vars = 263070 × 22917\n",
      "    obs: 'Dose', 'Time', 'OrigIdent', 'Celltype', 'Cell_Subtype', 'n_genes_by_counts', 'total_counts', 'total_counts_mt', 'pct_counts_mt', 'n_genes', 'Barcode', 'OrigIdent-Barcode', 'Seurat_Celltype', 'doublet_scores', 'predicted_doublets', 'doublet_info', 'leiden_scVI_res_0.05', 'leiden_scVI_res_0.1', 'leiden_scVI_res_0.25', 'leiden_scVI_res_0.5', 'leiden_scVI_res_0.75', 'leiden_scVI_res_1.50', 'OrigIdent_Celltype', 'Dose_Time'\n",
      "    uns: 'Cell_Subtype_colors', 'Celltype_Wilcoxon', 'Celltype_colors', 'Dose_colors', 'OrigIdent_colors', 'Time_colors', 'doublet_info_colors', 'leiden', 'leiden_scVI_res_0.25_colors', 'leiden_scVI_res_0.5_colors', 'log1p', 'neighbors', 'umap'\n",
      "    obsm: 'X_scVI', 'X_umap'\n",
      "    layers: 'counts', 'log1p_counts'\n",
      "    obsp: 'connectivities', 'distances'\n"
     ]
    }
   ],
   "source": [
    "print(adata) "
   ]
  },
  {
   "cell_type": "markdown",
   "metadata": {},
   "source": [
    "## <br> 3. Prep and Export Data"
   ]
  },
  {
   "cell_type": "code",
   "execution_count": 5,
   "metadata": {},
   "outputs": [],
   "source": [
    "matrix = adata.X.copy()\n",
    "transposed_matrix = matrix.transpose()\n"
   ]
  },
  {
   "cell_type": "code",
   "execution_count": 6,
   "metadata": {},
   "outputs": [],
   "source": [
    "# Save the matrix in Matrix Market (.mtx) format\n",
    "sio.mmwrite('./Data/TC_Sparse_Matrix.mtx', transposed_matrix)"
   ]
  },
  {
   "cell_type": "code",
   "execution_count": 7,
   "metadata": {},
   "outputs": [],
   "source": [
    "metadata = adata.obs[['OrigIdent-Barcode','OrigIdent_Celltype', 'OrigIdent', 'Dose', 'Time', 'Dose_Time', \n",
    "                      'Celltype','Cell_Subtype',\n",
    "                     'n_genes_by_counts', 'total_counts', 'total_counts_mt', 'pct_counts_mt', \n",
    "                     'n_genes', 'Barcode', 'doublet_scores', 'predicted_doublets', 'doublet_info']]\n",
    "\n",
    "\n",
    "# Export the DataFrame as a TSV file\n",
    "metadata.to_csv('./Data/metadata.tsv', sep='\\t', index=False)"
   ]
  },
  {
   "cell_type": "code",
   "execution_count": 8,
   "metadata": {},
   "outputs": [],
   "source": [
    "features = pd.DataFrame(adata.var.index)\n",
    "\n",
    "# Export features as TSV without index, quotes, or header\n",
    "features.to_csv('./Data/features.tsv', sep='\\t', index=False, header=False)"
   ]
  },
  {
   "cell_type": "code",
   "execution_count": 9,
   "metadata": {},
   "outputs": [],
   "source": [
    "barcodes = adata.obs[['OrigIdent-Barcode']]\n",
    "\n",
    "# Export features as TSV without index, quotes, or header\n",
    "barcodes.to_csv('./Data/barcodes.tsv', sep='\\t', index=False, header=False)"
   ]
  },
  {
   "cell_type": "code",
   "execution_count": 10,
   "metadata": {},
   "outputs": [
    {
     "data": {
      "text/plain": [
       "0         L001-AAACCCAAGTACAGAT\n",
       "1         L001-AAACCCAAGTCGAATA\n",
       "2         L001-AAACCCACATCCGAGC\n",
       "3         L001-AAACCCACATCCTTCG\n",
       "4         L001-AAACCCAGTAGAGCTG\n",
       "                  ...          \n",
       "263069    L138-TTTGTTGCACATAACC\n",
       "263070    L138-TTTGTTGCACATGAAA\n",
       "263071    L138-TTTGTTGGTCTCGGAC\n",
       "263072    L138-TTTGTTGTCGGTAGGA\n",
       "263073    L138-TTTGTTGTCTCTAAGG\n",
       "Name: OrigIdent-Barcode, Length: 263070, dtype: object"
      ]
     },
     "execution_count": 10,
     "metadata": {},
     "output_type": "execute_result"
    }
   ],
   "source": [
    "adata.obs['OrigIdent-Barcode']"
   ]
  },
  {
   "cell_type": "code",
   "execution_count": 11,
   "metadata": {},
   "outputs": [
    {
     "name": "stdout",
     "output_type": "stream",
     "text": [
      "Series([], Name: count, dtype: int64)\n"
     ]
    }
   ],
   "source": [
    "# Count the duplicate values\n",
    "duplicates_count = adata.obs['OrigIdent-Barcode'].value_counts()\n",
    "\n",
    "# Filter values with count greater than 1\n",
    "duplicates_greater_than_1 = duplicates_count[duplicates_count > 1]\n",
    "\n",
    "print(duplicates_greater_than_1)"
   ]
  },
  {
   "cell_type": "code",
   "execution_count": null,
   "metadata": {},
   "outputs": [],
   "source": []
  }
 ],
 "metadata": {
  "anaconda-cloud": {},
  "kernelspec": {
   "display_name": "Python (GSEApy)",
   "language": "python",
   "name": "gseapy"
  },
  "language_info": {
   "codemirror_mode": {
    "name": "ipython",
    "version": 3
   },
   "file_extension": ".py",
   "mimetype": "text/x-python",
   "name": "python",
   "nbconvert_exporter": "python",
   "pygments_lexer": "ipython3",
   "version": "3.9.16"
  }
 },
 "nbformat": 4,
 "nbformat_minor": 4
}
